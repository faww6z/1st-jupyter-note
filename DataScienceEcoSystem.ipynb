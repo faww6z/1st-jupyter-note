{
 "cells": [
  {
   "cell_type": "markdown",
   "id": "8de0f027-a7a9-49c4-9864-50a12e1db8e0",
   "metadata": {},
   "source": [
    "# Data Science Tools and Ecosystem"
   ]
  },
  {
   "cell_type": "markdown",
   "id": "fffff6d2-4504-4fde-9887-fb8dc1fc1e1c",
   "metadata": {
    "jupyter": {
     "source_hidden": true
    }
   },
   "source": [
    "In this notebook, Data Science Tools and Ecosystem are summarized"
   ]
  },
  {
   "cell_type": "markdown",
   "id": "f22601bf-e853-4918-a264-96aa72897719",
   "metadata": {},
   "source": [
    "__Objectives:__"
   ]
  },
  {
   "cell_type": "markdown",
   "id": "6ad00db0-40c0-4ae6-a87b-951b5d22f203",
   "metadata": {},
   "source": [
    "List popular languages for Data Science\n",
    "- R\n",
    "- SQL\n",
    "- Python\n",
    "- Java\n",
    "- Javascript"
   ]
  },
  {
   "cell_type": "markdown",
   "id": "65b4ab06-2ab1-4afa-ac5c-ec52f1c75e5e",
   "metadata": {},
   "source": [
    "Some of the popular languages that Data Scientists use are:"
   ]
  },
  {
   "cell_type": "markdown",
   "id": "4293df65-e4a0-43cb-b6c9-62e20a147736",
   "metadata": {},
   "source": [
    "1. R\n",
    "2. SQL\n",
    "3. Python\n",
    "4. Java"
   ]
  },
  {
   "cell_type": "markdown",
   "id": "3fc531bc-c30d-4fd6-bd9d-f0c024efb5ba",
   "metadata": {},
   "source": [
    "Some of the commonly used libraries used by Data Scientists include:"
   ]
  },
  {
   "cell_type": "markdown",
   "id": "0c8a6617-0aab-4c69-bdf7-4b12a02e20c1",
   "metadata": {},
   "source": [
    "1. NumPy\n",
    "2. Matplotlib\n",
    "3. TensorFlow\n",
    "4. Pandas"
   ]
  },
  {
   "cell_type": "markdown",
   "id": "1b5a954f-2ccd-417e-8d9b-06f63e8c4cdc",
   "metadata": {},
   "source": [
    "|Data Science Tools|\n",
    "|-----|\n",
    "| RStudio |\n",
    "| Apache Hadoop | \n",
    "| Apache Spark |"
   ]
  },
  {
   "cell_type": "markdown",
   "id": "a366f98a-521e-468d-824b-14bb491adc61",
   "metadata": {},
   "source": [
    "### Below are a few examples of evaluating arithmetic expressions in Python"
   ]
  },
  {
   "cell_type": "code",
   "execution_count": 2,
   "id": "b57eae8c-2814-44b0-94c0-6964b5698ad1",
   "metadata": {},
   "outputs": [],
   "source": [
    "# This is a simple arithmetic expression to multiply then add integers"
   ]
  },
  {
   "cell_type": "code",
   "execution_count": 3,
   "id": "52d9756a-bf9b-4820-8811-c38afceae95c",
   "metadata": {},
   "outputs": [
    {
     "data": {
      "text/plain": [
       "17"
      ]
     },
     "execution_count": 3,
     "metadata": {},
     "output_type": "execute_result"
    }
   ],
   "source": [
    "(3*4)+5"
   ]
  },
  {
   "cell_type": "code",
   "execution_count": 4,
   "id": "1dae8ea8-f753-409e-bdd0-6dc0841fddec",
   "metadata": {},
   "outputs": [],
   "source": [
    "# This will convert 200 minutes to hours by dividing by 60"
   ]
  },
  {
   "cell_type": "code",
   "execution_count": 5,
   "id": "6492c761-6de6-49f4-b1f1-2c142d71f2df",
   "metadata": {},
   "outputs": [
    {
     "data": {
      "text/plain": [
       "3.3333333333333335"
      ]
     },
     "execution_count": 5,
     "metadata": {},
     "output_type": "execute_result"
    }
   ],
   "source": [
    "200/60"
   ]
  },
  {
   "cell_type": "markdown",
   "id": "d48533bf-a04f-4e1d-b3e0-e8ffe9f7c1b9",
   "metadata": {},
   "source": [
    "## Author"
   ]
  },
  {
   "cell_type": "markdown",
   "id": "1ec44c00-2eaf-4778-9960-341176c474c5",
   "metadata": {},
   "source": [
    "Fawwaz"
   ]
  },
  {
   "cell_type": "code",
   "execution_count": null,
   "id": "a12d0bca-7775-4575-bcd7-873743c9919d",
   "metadata": {},
   "outputs": [],
   "source": []
  }
 ],
 "metadata": {
  "kernelspec": {
   "display_name": "Python [conda env:RP_Env]",
   "language": "python",
   "name": "conda-env-RP_Env-py"
  },
  "language_info": {
   "codemirror_mode": {
    "name": "ipython",
    "version": 3
   },
   "file_extension": ".py",
   "mimetype": "text/x-python",
   "name": "python",
   "nbconvert_exporter": "python",
   "pygments_lexer": "ipython3",
   "version": "3.12.9"
  }
 },
 "nbformat": 4,
 "nbformat_minor": 5
}
